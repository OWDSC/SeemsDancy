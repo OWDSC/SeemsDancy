{
 "cells": [
  {
   "cell_type": "code",
   "execution_count": 39,
   "id": "232977d3",
   "metadata": {},
   "outputs": [
    {
     "name": "stderr",
     "output_type": "stream",
     "text": [
      "c:\\Users\\Beutler\\AppData\\Local\\Programs\\Python\\Python38\\lib\\site-packages\\spacy\\util.py:833: UserWarning: [W095] Model 'en_core_web_sm' (3.0.0) was trained with spaCy v3.0 and may not be 100% compatible with the current version (3.2.1). If you see errors or degraded performance, download a newer compatible model or retrain your custom model with the current spaCy version. For more details and available updates, run: python -m spacy validate\n",
      "  warnings.warn(warn_msg)\n"
     ]
    }
   ],
   "source": [
    "import os\n",
    "import re\n",
    "from string import punctuation\n",
    "import datetime\n",
    "\n",
    "import pytesseract\n",
    "import numpy as np\n",
    "import matplotlib.pyplot as plt\n",
    "import pandas as pd\n",
    "\n",
    "import cv2\n",
    "from skimage import io\n",
    "\n",
    "import datefinder\n",
    "\n",
    "import spacy \n",
    "from spacy import displacy\n",
    "\n",
    "\n",
    "# from flair.data import Sentence\n",
    "# from flair.models import SequenceTagger\n",
    "from segtok.segmenter import split_single\n",
    "\n",
    "from nltk import ngrams\n",
    "\n",
    "# pytesseract.pytesseract.tesseract_cmd = r'C:\\Program Files\\Tesseract-OCR\\tesseract.exe'\n",
    "pytesseract.pytesseract.tesseract_cmd = r'C:\\Users\\Beutler\\AppData\\Local\\Programs\\Tesseract-OCR\\tesseract.exe'\n",
    "\n",
    "#language models for nlp\n",
    "#less accurate+english\n",
    "eng_nlp = spacy.load(\"en_core_web_sm\")\n",
    "#less accurate +german\n",
    "de_nlp = spacy.load(\"de_core_news_sm\")\n"
   ]
  },
  {
   "cell_type": "code",
   "execution_count": 40,
   "id": "5b4b5a53",
   "metadata": {},
   "outputs": [],
   "source": [
    "# path = r\"C:\\Users\\fabcr\\0A_Jupyter_Lab\\DHBW\\06_Semester\\Seems Dancy\\Images_tes\\Base\"\n",
    "# img_list=os.listdir(r\"C:\\Users\\fabcr\\0A_Jupyter_Lab\\DHBW\\06_Semester\\Seems Dancy\\Images_tes\\Base\")\n",
    "\n",
    "path = r\"C:\\Users\\Beutler\\Desktop\\Uni - neu\\Semester 6\\dancy\\NLP\\images\"\n",
    "img_list=os.listdir(r\"C:\\Users\\Beutler\\Desktop\\Uni - neu\\Semester 6\\dancy\\NLP\\images\")\n"
   ]
  },
  {
   "cell_type": "code",
   "execution_count": 41,
   "id": "7a1de235",
   "metadata": {},
   "outputs": [],
   "source": [
    "# get grayscale image\n",
    "def get_grayscale(image):\n",
    "    return cv2.cvtColor(image, cv2.COLOR_BGR2GRAY )\n",
    "\n",
    "# noise removal\n",
    "def remove_noise(image):\n",
    "    return cv2.medianBlur(image,5)\n",
    " \n",
    "#thresholding\n",
    "def thresholding(image):\n",
    "    return cv2.threshold(image, 0, 255, cv2.THRESH_BINARY + cv2.THRESH_OTSU)[1]\n",
    "\n",
    "#dilation\n",
    "def dilate(image):\n",
    "    kernel = np.ones((5,5),np.uint8)\n",
    "    return cv2.dilate(image, kernel, iterations = 1)\n",
    "    \n",
    "#erosion\n",
    "def erode(image):\n",
    "    kernel = np.ones((5,5),np.uint8)\n",
    "    return cv2.erode(image, kernel, iterations = 1)\n",
    "\n",
    "#opening - erosion followed by dilation\n",
    "def opening(image):\n",
    "    kernel = np.ones((5,5),np.uint8)\n",
    "    return cv2.morphologyEx(image, cv2.MORPH_OPEN, kernel)\n",
    "\n",
    "#canny edge detection\n",
    "def canny(image):\n",
    "    return cv2.Canny(image, 100, 200)\n",
    "\n",
    "\n",
    "##########\n",
    "# Neu\n",
    "def torgb(image):\n",
    "    return cv2.cvtColor((image), cv2.COLOR_BGR2RGB)\n"
   ]
  },
  {
   "cell_type": "code",
   "execution_count": 42,
   "id": "eb2ead28",
   "metadata": {},
   "outputs": [],
   "source": [
    "def display(image):\n",
    "    image = torgb(image)\n",
    "    plt.imshow(image)\n",
    "    plt.show()\n",
    "\n",
    "\n",
    "def open_local_img(path, image):\n",
    "    return cv2.imread(path + '\\\\' + image)\n",
    "\n",
    "def open_url(url):\n",
    "    image = io.imread(url)\n",
    "    return cv2.cvtColor(image, cv2.COLOR_BGR2RGB)\n",
    "\n",
    "\n",
    "def image_extract(base, sol='', all=True):\n",
    "    # Base = base_image, sol = Output String    \n",
    "#     sol = sol +  'Base:' \n",
    "    sol = sol +  pytesseract.image_to_string(base) \n",
    "\n",
    "    if all:\n",
    "#     sol = sol +  'Greyscale: '    \n",
    "        sol = sol + pytesseract.image_to_string(get_grayscale(base))  \n",
    "#     sol = sol +  'Smooth: '\n",
    "        sol = sol + pytesseract.image_to_string(remove_noise(base))\n",
    "#     sol = sol +  'Dilate: '\n",
    "        sol = sol + pytesseract.image_to_string(dilate(base))\n",
    "#     sol = sol +  'Canny Edge: ' \n",
    "        sol = sol + pytesseract.image_to_string(canny(base))\n",
    "    \n",
    "    #return '' instead of \\n\n",
    "    sol = sol.replace('\\n',' ')\n",
    "    return sol\n",
    "\n",
    "\n",
    "# Extract ALWAYS returns a list!\n",
    "\n",
    "def extract_local_batch(batch, path, all=True):\n",
    "\n",
    "    extracted_text = []\n",
    "\n",
    "    for image in batch:\n",
    "        # extract text from image, appending textt found in multiple pre-processing uses into one string\n",
    "        extracted_text.append(image_extract(open_local_img(path, image), sol='', all=all))\n",
    "\n",
    "    #return list of extracted texts\n",
    "    return extracted_text\n",
    "\n",
    "\n",
    "def extract_url_batch(batch, all=True):\n",
    "\n",
    "    extracted_text = []\n",
    "\n",
    "    for url in batch:\n",
    "        extracted_text.append(image_extract(open_url(url), sol='', all=all))\n",
    "\n",
    "    return extracted_text"
   ]
  },
  {
   "cell_type": "code",
   "execution_count": 43,
   "id": "e66a401d",
   "metadata": {},
   "outputs": [],
   "source": [
    "def ner_output(sol, language):\n",
    "    #german ner\n",
    "    if language == 'ger':\n",
    "        return de_nlp(sol)\n",
    "\n",
    "    #english ner\n",
    "    #language == 'eng'\n",
    "    else:\n",
    "        return eng_nlp(sol)\n",
    "\n",
    "\n",
    "def get_keywords(text, lang=\"ger\"):\n",
    "    result = []\n",
    "    pos_tag = ['PROPN', 'ADJ', 'NOUN'] \n",
    "    clean_text = \"\"\n",
    "#Determine Stopwords\n",
    "    if lang == \"ger\":\n",
    "        stop_words = de_nlp.Defaults.stop_words\n",
    "    else: \n",
    "        stop_words = eng_nlp.Defaults.stop_words\n",
    "\n",
    "#Step 1: Remove any elements that are only 1 character long\n",
    "    raw_text = text.split()\n",
    "\n",
    "    for word in raw_text:\n",
    "        if len(word) > 1:\n",
    "            clean_text = clean_text + word + \" \"\n",
    "        \n",
    "    text = clean_text\n",
    "    \n",
    "#Step 2: Tokenize\n",
    "    doc = ner_output(text.lower(), lang)\n",
    "\n",
    "#Step 3: Exclude stopwords and punctiation\n",
    "    for token in doc:\n",
    "        if(token.text in stop_words or token.text in punctuation):\n",
    "            continue\n",
    "\n",
    "#Step 4: Exlude tokens that aren't included in the giving pos tagging  \n",
    "        if(token.pos_ in pos_tag):\n",
    "            result.append(token.text)\n",
    "\n",
    "#Step 4: Return cleaned keywords as a single string\n",
    "    result = \" \".join(result)\n",
    "                \n",
    "    return result\n"
   ]
  },
  {
   "cell_type": "code",
   "execution_count": 44,
   "id": "67833028",
   "metadata": {},
   "outputs": [],
   "source": [
    "# Getting dates from Raw Text\n",
    "# -> Run dates_weighted on string from extract_batch\n",
    "\n",
    "\n",
    "# Exclude dates from list before a certain time\n",
    "def exclude_date(year_list):\n",
    "    \n",
    "    date_base = 2020\n",
    "    date_clear = []\n",
    "\n",
    "    for date in year_list:\n",
    "        if int(date) > date_base:\n",
    "            date_clear.append(date)\n",
    "    \n",
    "    if date_clear == []:\n",
    "        return [\"No Year\"]\n",
    "    else:\n",
    "        return date_clear\n",
    "\n",
    "#get list of dates from string\n",
    "def get_dates(text):\n",
    "\n",
    "    dates = []\n",
    "    years = []\n",
    "\n",
    "    matches = datefinder.find_dates(text)\n",
    "\n",
    "    for match in matches:\n",
    "        years.append(match.year)\n",
    "        date = [match.day,match.month]\n",
    "        dates.append(date)\n",
    "\n",
    "    return years, dates\n",
    "\n",
    "# Generate DF that has only unique values and how often they occur\n",
    "# exclude: exclude years before the one given in the exclude date function (atm hardset on 2020)\n",
    "# get_all: If True, return the weighted Year and Date df's rather than the string\n",
    "\n",
    "def dates_weighted(text, exclude=True, get_all = False):\n",
    "    \n",
    "    year_list, date_list = get_dates(text)\n",
    "\n",
    "    if exclude:\n",
    "        year_list = exclude_date(year_list)\n",
    "\n",
    "    date_df = pd.DataFrame(data = {'dates': date_list})\n",
    "\n",
    "    date_df = date_df['dates'].value_counts(dropna=True, sort=True)\n",
    "    date_df = date_df.rename_axis('dates').reset_index(name='weights')\n",
    "\n",
    "    year_df = pd.DataFrame(data = {'years': year_list})\n",
    "    year_df = year_df['years'].value_counts(dropna=True, sort=True)\n",
    "    year_df = year_df.rename_axis('years').reset_index(name='weights')\n",
    "\n",
    "    if get_all:\n",
    "        return date_df, year_df\n",
    "    else:\n",
    "\n",
    "        l_date = date_df[\"dates\"].iloc[0]\n",
    "        l_year = year_df[\"years\"].iloc[0]\n",
    "\n",
    "        date_str = f\"{l_date[0]}.{l_date[1]}.{l_year}\"\n",
    "\n",
    "        return date_str\n",
    "\n",
    "\n",
    "\n"
   ]
  },
  {
   "cell_type": "code",
   "execution_count": 45,
   "id": "3c75105f",
   "metadata": {},
   "outputs": [],
   "source": [
    "#Find website adresses in text, expected input = keywords\n",
    "\n",
    "def get_web_adresses(text):\n",
    "\n",
    "    adresses = []\n",
    "    #uses re library to find string starting with www.\n",
    "    adresses = re.findall('www.([\\w\\-\\.]+)',  text)\n",
    "\n",
    "    #Return \"none\" if no adresses were found\n",
    "    if adresses == []:\n",
    "        return \"None\"\n",
    "    else:\n",
    "        #remove duplicates\n",
    "        adresses = list(set(adresses))\n",
    "\n",
    "        #addd www. to the adresses again, re removes them while saving\n",
    "        for x in range(len(adresses)):\n",
    "            adresses[x] = 'www.'+adresses[x]\n",
    "\n",
    "        return adresses    \n",
    "\n"
   ]
  },
  {
   "cell_type": "markdown",
   "id": "914b8662",
   "metadata": {},
   "source": [
    "___________________"
   ]
  },
  {
   "cell_type": "code",
   "execution_count": 46,
   "id": "20f5d58c",
   "metadata": {},
   "outputs": [],
   "source": [
    "###Currently Unused\n",
    "\n",
    "def get_trigramms(input):\n",
    "    n_gramm_output = []\n",
    "\n",
    "    gram_list = ngrams(input.split(), 3)\n",
    "\n",
    "    for grams in gram_list:\n",
    "        n_gramm_output.append(str(grams[0]+ ' ' +grams[1]+ ' ' + grams[2]))\n",
    "\n",
    "    return n_gramm_output\n",
    "\n",
    "\n",
    "def get_trigramm_batch(inputbatch):\n",
    "    n_gramm_ouput = []\n",
    "    for i in range(len(inputbatch)):\n",
    "        n_gramm_ouput.append(get_trigramms(inputbatch[i]))\n",
    "\n",
    "    return n_gramm_ouput"
   ]
  },
  {
   "cell_type": "code",
   "execution_count": 47,
   "id": "1778c0cf",
   "metadata": {},
   "outputs": [],
   "source": [
    "#Debug-Display Functions:\n",
    "def image_test(path, image_path, sol):\n",
    "    # Path = Speicherpfad, image_path = Dateiname, sol = Output String\n",
    "    base = open_local_img(path,image_path)\n",
    "        \n",
    "    display(get_grayscale(base))\n",
    "    sol = sol + pytesseract.image_to_string(get_grayscale(base))\n",
    "    print('_______________________')\n",
    "    \n",
    "    display(remove_noise(base))\n",
    "    sol = sol + pytesseract.image_to_string(remove_noise(base))\n",
    "    print('_______________________')\n",
    "    \n",
    "    display(dilate(base))\n",
    "    sol = sol + pytesseract.image_to_string(dilate(base))\n",
    "    print('_______________________')\n",
    "    \n",
    "    display(erode(base))\n",
    "    sol = sol + pytesseract.image_to_string(erode(base))\n",
    "    print('_______________________')\n",
    "    \n",
    "    display(opening(base))\n",
    "    sol = sol + pytesseract.image_to_string(opening(base))\n",
    "    print('_______________________')\n",
    "    \n",
    "    display(canny(rb_base))\n",
    "    sol = sol + pytesseract.image_to_string(canny(base))\n",
    "    print('_______________________')\n",
    "    return sol\n",
    "\n",
    "\n",
    "def ner_display(sol, language=\"eng\"):\n",
    "    \n",
    "    #german ner\n",
    "    if language == 'ger':\n",
    "        token_sol = de_nlp(sol)\n",
    "        for word in token_sol.ents:\n",
    "            print('Text:', word.ents, '\\tLabel:', word.label_) \n",
    "        displacy.render(token_sol,style=\"ent\",jupyter=True)\n",
    "\n",
    "    #english ner\n",
    "    #language == 'eng'\n",
    "    else:\n",
    "        token_sol = eng_nlp(sol)\n",
    "        for word in token_sol.ents:\n",
    "            print('Text:', word.ents, '\\tLabel:', word.label_) \n",
    "        displacy.render(token_sol,style=\"ent\",jupyter=True)\n"
   ]
  },
  {
   "cell_type": "code",
   "execution_count": 48,
   "id": "042249aa",
   "metadata": {},
   "outputs": [],
   "source": [
    "test_batch = extract_local_batch(img_list, path)\n",
    "   "
   ]
  },
  {
   "cell_type": "code",
   "execution_count": 49,
   "id": "c360a104",
   "metadata": {},
   "outputs": [
    {
     "name": "stdout",
     "output_type": "stream",
     "text": [
      "[\"NOV, 2 KANN NIGHT STATTFINDEN  NOVA ROGK 2021 CAN'T TAKE PLAGE  09.-12. JUNE  MORE INFO COMING SOON! —) bo SON OCK 2021 WA Ss KANN NICHT STATTFINDEN / L.  NOVA ROGK 2021 CAN'T TAKE PLAGE  09,-12. JUNE RN ee 4 SS WA ROCK 2021 CAN T TAKE PLACE Z \\\\ Zs,  09.-12. JUNE  ~ ETT” 4!  ya ha i Ali Ai  nova (7) z rock | S \\\\ NOVA ROCK 2021  SNS \\\\ KANN NICHT STATTFINDEN Af  <  Sew ome 09.-12. JUNE  MORE INFO COMING SOON!  4 a Ps , &  = | BOUEeTErteney | KCNA UICH SOTTO  (UNE [ev Uo Ie m jp cil en comman lh» <  oa  \", 'BENNY AND ALYSSA’S  LIVE MUSIC + FOOD + NOODLES  123 WESTDALE CRESCENT, SAN FRANCISCO CA SUMMER LOVE  POOL ONAN  BEMMY AND ALYSSAS  LIVE MUSIK « FOOO + MOOOL ES  123 WESTOALE CRESCENT, SAN PRAMCISCO CA BENNY AND ALYSSA’S  SUM IMEI IONE!  PARTY  WEVEGOT J a  na ISIC © ROOD + NOOBLES  o fo ee a ge JULY 12, 2O2O 3a 3, - 123 WESTDALE CRESCENT, SAN FRANCISEO CA ° : . ', 'DONNERSTAG 16. JUNI 2022  THE HIV ES AIRBOURNE  STEEL PANTHER _—_ THUNDER 17. JUNI 2022  ia! —  Sa 2 ae  ‘TRANSPORTPARTNER  MIGROS  prasentiert  DONNERSTAG 16. JUNI 2022 THE HIVES AIRBOURNE STEEL PANTHER THUNDER a ema FOREIGNER BUSH $6, Jn 2a22 MONSTER MAGNET MEGAWATT ALICE COOPER BLACK LABEL SOCIETY ACCEPT STORACE DIRTY HONEY. HINWIL  MORE BANDS WILL BE ANNOUNCED SOON AUTOBAHNKREISEL  HAUPTPARTNER (MEDIENPARTNER Heineken’ ek  CCO-PARTNER  www.rockthering.ch wwwsticketcorner.ch  arieettieet  ce rey AIRBOURNE STEEL PANTHER THUNDER  DUNNER STAG cal, Leas  THE HIVES AIRBOURNE STEEL PANTHER THUNDER BUSH Her ee MONSTER MAGNET MEGAWATT  ALICE COOPER  BLACK LABEL SOCIETY ACCEPT STORACE  DIRTY HONEY HINWIL  PEE Rt WLS EL DO EN RCRA fe S 0 ATA AB APA Aik CiEIS El  prdsontient  MIGROS  DONNERSTAGI  HOM UNIR2 0228  HESHIVIES:  AIRBOURNE  STEER ATINHER tere  THUNDER ia UR ROREIGHER  . _ BEUSH  Ta ON ee AVIONSTERS SiGe  1G; UL ae fd aaa y oe seh See HT ANIC. COUPER “  My: age FABEISSOCIENVEN  le S22R LercnPornen®  Be GEE ame ee) Be Sa\"  crmcuedhithering.ch ‘eeswltickatzomench  ', \"Your Logo  SIC  en  XYZ CLUB  PARK XYZ, MILKY WAY STREET , GALAXY XY  24.10.21. i!  LADIES FREE ENTRY  LOUNGE RESERVATION WWW.XYTHINKZCLUB.COM  @xvzearty  Your Logo  SIC  ——  XYZ CLUB  PARK XYZ, MILKY WAY STREET , GALAXY XY  24.10.21. i!  LADIES FREE ENTRY  LOUNGE RESERVATION WWW.XYTHINKZCLUB.COM  2) xvzparty  SIC  ?——  XYZ CLUB  ire oe Th hes  24.10.21. °55;'  Quran IQ(ACHUE:  BARK IV2, MILGY WAT STREET , CALAN? 2°  22, Oa), nal  LADIES FREE ENTRY LOUNGE RESERVATION LRAT RY THINKZCLUS.COM  of G) svapanty  \", 'SA.UC.1E. ie ee IMARKTHALLE MANNHEIM , we UICTLY: HARDCORE - HARDSTYLE - HARDTECHNO C012  sh 0242-1  MARKTHALLE MANNHEIM \\\\ 20 -OGURR  gilZoealld  SN. Hh eae NAIDOO  > SN  ABN canes newer a ee ARO BORE - HARDSTYLE-HARDVECHIO a 4 fm ~ og AE .  oe ~  Wy NX { Lo  Ane By a <7 eee ood Ni wa are 2 é i , a g a8,  ']\n"
     ]
    }
   ],
   "source": [
    "print(test_batch)"
   ]
  },
  {
   "cell_type": "code",
   "execution_count": 50,
   "id": "f8670ad7",
   "metadata": {},
   "outputs": [
    {
     "name": "stdout",
     "output_type": "stream",
     "text": [
      "[\"nov night nova can't plage 09.-12. june more info coming soon son ock wa ss l. nova can't plage june ee ss wa rock can take june ett ai nova rock nova rock sns ome 09.-12. june more info coming soon ps boueeterteney kcna sotto une comman lh\", 'benny and alyssa ’s music noodles westdale crescent san francisco ca onan bemmy and alyssas live musik fooo moool westoale crescent san pramcisco ca benny and alyssa ’s sum imei ione party wevegot isic rood noobles ee ge july westdale crescent san', 'donnerstag 16. juni airbourne panther thunder 17. juni transportpartner migros prasentiert donnerstag 16. juni airbourne panther thunder ema foreigner bush jn monster megawatt alice cooper black label society accept storace dirty hinwil more soon autobahnkreisel hauptpartner medienpartner heineken cco-partner www.rockthering.ch wwwsticketcorner.ch arieettieet ce rey panther thunder dunner stag cal leas the hives airbourne panther thunder bush ee monster megawatt alice cooper black label society accept storace dirty honey hinwil pee rcra fe ata apa donnerstagi hom unir2 airbourne steer atinher tere ia ur roreigher beush ta on ee avionsters sige seh see anic couper my fabeissocienven s22r ®', 'your logo xyz club park xyz milky way street galaxy xy i free lounge reservation www.xythinkzclub.com @xvzearty your logo xyz club park xyz milky way street galaxy xy i free lounge reservation www.xythinkzclub.com xvzparty xyz club th hes 24.10.21. ° quran iq achue iv2 wat street calan ° free entry lounge reservation ry thinkzclus.com of g svapanty', 'sa.uc.1e mannheim sh markthalle mannheim -ogurr gilzoealld sn hh eae naidoo sn abn canes ee aro bore hardstyle-hardvechio og a8']\n"
     ]
    }
   ],
   "source": [
    "key_words = []\n",
    "\n",
    "for x in range(len((test_batch))):\n",
    "    key_words.append(get_keywords(test_batch[x]))\n",
    "\n",
    "print(key_words)"
   ]
  },
  {
   "cell_type": "code",
   "execution_count": 51,
   "id": "00fc0a7d",
   "metadata": {},
   "outputs": [
    {
     "name": "stdout",
     "output_type": "stream",
     "text": [
      "nov night nova can't plage 09.-12. june more info coming soon son ock wa ss l. nova can't plage june ee ss wa rock can take june ett ai nova rock nova rock sns ome 09.-12. june more info coming soon ps boueeterteney kcna sotto une comman lh\n",
      "_______________\n",
      "([2009, 2022, 2022, 2009], [[12, 6], [14, 6], [14, 6], [12, 6]])\n",
      "_______________\n",
      "12.6.2022\n",
      "_______________\n",
      "benny and alyssa ’s music noodles westdale crescent san francisco ca onan bemmy and alyssas live musik fooo moool westoale crescent san pramcisco ca benny and alyssa ’s sum imei ione party wevegot isic rood noobles ee ge july westdale crescent san\n",
      "_______________\n",
      "([2022], [[14, 7]])\n",
      "_______________\n",
      "14.7.2022\n",
      "_______________\n",
      "donnerstag 16. juni airbourne panther thunder 17. juni transportpartner migros prasentiert donnerstag 16. juni airbourne panther thunder ema foreigner bush jn monster megawatt alice cooper black label society accept storace dirty hinwil more soon autobahnkreisel hauptpartner medienpartner heineken cco-partner www.rockthering.ch wwwsticketcorner.ch arieettieet ce rey panther thunder dunner stag cal leas the hives airbourne panther thunder bush ee monster megawatt alice cooper black label society accept storace dirty honey hinwil pee rcra fe ata apa donnerstagi hom unir2 airbourne steer atinher tere ia ur roreigher beush ta on ee avionsters sige seh see anic couper my fabeissocienven s22r ®\n",
      "_______________\n",
      "([2022, 2022, 2022], [[16, 6], [17, 6], [16, 6]])\n",
      "_______________\n",
      "16.6.2022\n",
      "_______________\n",
      "your logo xyz club park xyz milky way street galaxy xy i free lounge reservation www.xythinkzclub.com @xvzearty your logo xyz club park xyz milky way street galaxy xy i free lounge reservation www.xythinkzclub.com xvzparty xyz club th hes 24.10.21. ° quran iq achue iv2 wat street calan ° free entry lounge reservation ry thinkzclus.com of g svapanty\n",
      "_______________\n",
      "([2021], [[24, 10]])\n",
      "_______________\n",
      "24.10.2021\n",
      "_______________\n",
      "sa.uc.1e mannheim sh markthalle mannheim -ogurr gilzoealld sn hh eae naidoo sn abn canes ee aro bore hardstyle-hardvechio og a8\n",
      "_______________\n",
      "([], [])\n",
      "_______________\n",
      "None\n",
      "_______________\n"
     ]
    }
   ],
   "source": [
    "\n",
    "for x in range(len(key_words)):\n",
    "    print(key_words[x])\n",
    "    print('_______________')\n",
    "    print(get_dates(key_words[x]))\n",
    "    print('_______________')\n",
    "\n",
    "    try:\n",
    "        print(dates_weighted(key_words[x]))\n",
    "    except:\n",
    "        print(\"None\")\n",
    "    print('_______________')"
   ]
  },
  {
   "cell_type": "code",
   "execution_count": 52,
   "id": "e90b817f",
   "metadata": {},
   "outputs": [
    {
     "name": "stdout",
     "output_type": "stream",
     "text": [
      "None\n",
      "None\n",
      "['www.ticketcorner.ch', 'www.rockthering.ch']\n",
      "['www.xythinkzclub.com']\n",
      "None\n"
     ]
    }
   ],
   "source": [
    "for element in key_words:\n",
    "    print(get_web_adresses(element))\n",
    "    \n"
   ]
  },
  {
   "cell_type": "code",
   "execution_count": 65,
   "id": "259351ce",
   "metadata": {
    "collapsed": true
   },
   "outputs": [],
   "source": [
    "# for x in range(len(test_batch)):\n",
    "#     ner_display(test_batch[x], 'eng')\n",
    "#     print('__________')\n",
    "\n",
    "# for x in range(len(key_words)):\n",
    "#     ner_display(key_words[x].title(), 'eng')\n",
    "#     print('__________')    \n",
    "\n",
    "\n",
    "# excepting list\n",
    "def get_artist(input):\n",
    "    \n",
    "    token_sol = eng_nlp(input)\n",
    "\n",
    "    entities = []\n",
    "    \n",
    "    for word in token_sol.ents:\n",
    "        if word.label_ in [\"ORG\", \"PERSON\"]:\n",
    "            if str(word.ents[0]) not in entities:\n",
    "                entities.append(str(word.ents[0]))\n",
    "\n",
    "    return entities\n",
    "\n",
    "# for x in range(len(test_batch)):\n",
    "#     get_artist(test_batch[x])\n",
    "#     get_artist(key_words[x].upper())\n",
    "#     get_artist(key_words[x].title())\n",
    "#     print('__________')"
   ]
  },
  {
   "cell_type": "code",
   "execution_count": 54,
   "id": "d9aaba9d",
   "metadata": {
    "collapsed": true
   },
   "outputs": [],
   "source": [
    "# for x in range(len(test_batch)):\n",
    "#     ner_display(test_batch[x], 'ger')\n",
    "#     print('__________')"
   ]
  },
  {
   "cell_type": "code",
   "execution_count": 55,
   "id": "0e531b20",
   "metadata": {},
   "outputs": [],
   "source": [
    "# text = 'Im Juli gehe ich in die Schule neben der Maimarkthalle in MANNHEIM .'\n",
    "# bsp = 'SA.UC.1E. ie ee IMARKTHALLE MANNHEIM , we UICTLY: HARDCORE - HARDSTYLE- HARDTECHNO C012 sh 0242-1 MARKTHALLE MANNHEIM \\ 20 -OGURR gilZoealld SN. Hh eae NAIDOO > SN ABN canes newer a ee ARO BORE - HARDSTYLE-HARDVECHIO a 4fm ~ og AE . oe ~ Wy NX { Lo Ane By a <7 eee ood Ni wa are 2 é i , a g a8, '\n",
    "# #\n",
    "\n",
    "# ner_display(bsp, \"ger\")\n",
    "# ner_display(bsp, \"eng\")\n",
    "# ner_display(text, \"ger\")\n",
    "# ner_display(text, \"eng\")"
   ]
  },
  {
   "cell_type": "markdown",
   "id": "7344892d",
   "metadata": {},
   "source": [
    "_______________"
   ]
  },
  {
   "cell_type": "code",
   "execution_count": 56,
   "id": "92de3f00",
   "metadata": {
    "scrolled": false
   },
   "outputs": [
    {
     "name": "stdout",
     "output_type": "stream",
     "text": [
      "['NOV, 2 KANN', '2 KANN NIGHT', 'KANN NIGHT STATTFINDEN', 'NIGHT STATTFINDEN NOVA', 'STATTFINDEN NOVA ROGK', 'NOVA ROGK 2021', \"ROGK 2021 CAN'T\", \"2021 CAN'T TAKE\", \"CAN'T TAKE PLAGE\", 'TAKE PLAGE 09.-12.', 'PLAGE 09.-12. JUNE', '09.-12. JUNE MORE', 'JUNE MORE INFO', 'MORE INFO COMING', 'INFO COMING SOON!', 'COMING SOON! —)', 'SOON! —) bo', '—) bo SON', 'bo SON OCK', 'SON OCK 2021', 'OCK 2021 WA', '2021 WA Ss', 'WA Ss KANN', 'Ss KANN NICHT', 'KANN NICHT STATTFINDEN', 'NICHT STATTFINDEN /', 'STATTFINDEN / L.', '/ L. NOVA', 'L. NOVA ROGK', 'NOVA ROGK 2021', \"ROGK 2021 CAN'T\", \"2021 CAN'T TAKE\", \"CAN'T TAKE PLAGE\", 'TAKE PLAGE 09,-12.', 'PLAGE 09,-12. JUNE', '09,-12. JUNE RN', 'JUNE RN ee', 'RN ee 4', 'ee 4 SS', '4 SS WA', 'SS WA ROCK', 'WA ROCK 2021', 'ROCK 2021 CAN', '2021 CAN T', 'CAN T TAKE', 'T TAKE PLACE', 'TAKE PLACE Z', 'PLACE Z \\\\', 'Z \\\\ Zs,', '\\\\ Zs, 09.-12.', 'Zs, 09.-12. JUNE', '09.-12. JUNE ~', 'JUNE ~ ETT”', '~ ETT” 4!', 'ETT” 4! ya', '4! ya ha', 'ya ha i', 'ha i Ali', 'i Ali Ai', 'Ali Ai nova', 'Ai nova (7)', 'nova (7) z', '(7) z rock', 'z rock |', 'rock | S', '| S \\\\', 'S \\\\ NOVA', '\\\\ NOVA ROCK', 'NOVA ROCK 2021', 'ROCK 2021 SNS', '2021 SNS \\\\', 'SNS \\\\ KANN', '\\\\ KANN NICHT', 'KANN NICHT STATTFINDEN', 'NICHT STATTFINDEN Af', 'STATTFINDEN Af <', 'Af < Sew', '< Sew ome', 'Sew ome 09.-12.', 'ome 09.-12. JUNE', '09.-12. JUNE MORE', 'JUNE MORE INFO', 'MORE INFO COMING', 'INFO COMING SOON!', 'COMING SOON! 4', 'SOON! 4 a', '4 a Ps', 'a Ps ,', 'Ps , &', ', & =', '& = |', '= | BOUEeTErteney', '| BOUEeTErteney |', 'BOUEeTErteney | KCNA', '| KCNA UICH', 'KCNA UICH SOTTO', 'UICH SOTTO (UNE', 'SOTTO (UNE [ev', '(UNE [ev Uo', '[ev Uo Ie', 'Uo Ie m', 'Ie m jp', 'm jp cil', 'jp cil en', 'cil en comman', 'en comman lh»', 'comman lh» <', 'lh» < oa']\n"
     ]
    }
   ],
   "source": [
    "trigramlist = get_trigramm_batch(test_batch)\n",
    "\n",
    "print(trigramlist[0])"
   ]
  },
  {
   "cell_type": "code",
   "execution_count": 57,
   "id": "2b054632",
   "metadata": {},
   "outputs": [
    {
     "name": "stdout",
     "output_type": "stream",
     "text": [
      "['a 3 JEDER LONGDRINK NOR 5€ FREITAG 4 792071 ‘EXCESS BAR G LOUNGE, 5 a, % ; JEDEB LONGDRINK NOR SE FREITAG 4: a EXCESS BAR LOONGE ']\n"
     ]
    }
   ],
   "source": [
    "#Test URL Extraction\n",
    "urls = [\"https://encrypted-tbn0.gstatic.com/images?q=tbn:ANd9GcSuPmO_5fHMKY2NOczsNDO3pDQH4YLfMeXFiQ&usqp=CAU\"]\n",
    "\n",
    "print(extract_url_batch(urls))"
   ]
  },
  {
   "cell_type": "code",
   "execution_count": 66,
   "id": "73d72fb1",
   "metadata": {},
   "outputs": [
    {
     "name": "stdout",
     "output_type": "stream",
     "text": [
      "{'URL': \"NOV, 2 KANN NIGHT STATTFINDEN  NOVA ROGK 2021 CAN'T TAKE PLAGE  09.-12. JUNE  MORE INFO COMING SOON! —) bo SON OCK 2021 WA Ss KANN NICHT STATTFINDEN / L.  NOVA ROGK 2021 CAN'T TAKE PLAGE  09,-12. JUNE RN ee 4 SS WA ROCK 2021 CAN T TAKE PLACE Z \\\\ Zs,  09.-12. JUNE  ~ ETT” 4!  ya ha i Ali Ai  nova (7) z rock | S \\\\ NOVA ROCK 2021  SNS \\\\ KANN NICHT STATTFINDEN Af  <  Sew ome 09.-12. JUNE  MORE INFO COMING SOON!  4 a Ps , &  = | BOUEeTErteney | KCNA UICH SOTTO  (UNE [ev Uo Ie m jp cil en comman lh» <  oa  \", 'raw_text': \"NOV, 2 KANN NIGHT STATTFINDEN  NOVA ROGK 2021 CAN'T TAKE PLAGE  09.-12. JUNE  MORE INFO COMING SOON! —) bo SON OCK 2021 WA Ss KANN NICHT STATTFINDEN / L.  NOVA ROGK 2021 CAN'T TAKE PLAGE  09,-12. JUNE RN ee 4 SS WA ROCK 2021 CAN T TAKE PLACE Z \\\\ Zs,  09.-12. JUNE  ~ ETT” 4!  ya ha i Ali Ai  nova (7) z rock | S \\\\ NOVA ROCK 2021  SNS \\\\ KANN NICHT STATTFINDEN Af  <  Sew ome 09.-12. JUNE  MORE INFO COMING SOON!  4 a Ps , &  = | BOUEeTErteney | KCNA UICH SOTTO  (UNE [ev Uo Ie m jp cil en comman lh» <  oa  \", 'key_words': \"nov night nova can't plage 09.-12. june more info coming soon son ock wa ss l. nova can't plage june ee ss wa rock can take june ett ai nova rock nova rock sns ome 09.-12. june more info coming soon ps boueeterteney kcna sotto une comman lh\", 'likely_date': '12.6.2022', 'websites': 'None', 'features': ['Info']}\n",
      "_______________\n",
      "{'URL': 'BENNY AND ALYSSA’S  LIVE MUSIC + FOOD + NOODLES  123 WESTDALE CRESCENT, SAN FRANCISCO CA SUMMER LOVE  POOL ONAN  BEMMY AND ALYSSAS  LIVE MUSIK « FOOO + MOOOL ES  123 WESTOALE CRESCENT, SAN PRAMCISCO CA BENNY AND ALYSSA’S  SUM IMEI IONE!  PARTY  WEVEGOT J a  na ISIC © ROOD + NOOBLES  o fo ee a ge JULY 12, 2O2O 3a 3, - 123 WESTDALE CRESCENT, SAN FRANCISEO CA ° : . ', 'raw_text': 'BENNY AND ALYSSA’S  LIVE MUSIC + FOOD + NOODLES  123 WESTDALE CRESCENT, SAN FRANCISCO CA SUMMER LOVE  POOL ONAN  BEMMY AND ALYSSAS  LIVE MUSIK « FOOO + MOOOL ES  123 WESTOALE CRESCENT, SAN PRAMCISCO CA BENNY AND ALYSSA’S  SUM IMEI IONE!  PARTY  WEVEGOT J a  na ISIC © ROOD + NOOBLES  o fo ee a ge JULY 12, 2O2O 3a 3, - 123 WESTDALE CRESCENT, SAN FRANCISEO CA ° : . ', 'key_words': 'benny and alyssa ’s music noodles westdale crescent san francisco ca onan bemmy and alyssas live musik fooo moool westoale crescent san pramcisco ca benny and alyssa ’s sum imei ione party wevegot isic rood noobles ee ge july westdale crescent san', 'likely_date': '14.7.2022', 'websites': 'None', 'features': ['Benny', 'Alyssa', 'Westdale Crescent']}\n",
      "_______________\n",
      "{'URL': 'DONNERSTAG 16. JUNI 2022  THE HIV ES AIRBOURNE  STEEL PANTHER _—_ THUNDER 17. JUNI 2022  ia! —  Sa 2 ae  ‘TRANSPORTPARTNER  MIGROS  prasentiert  DONNERSTAG 16. JUNI 2022 THE HIVES AIRBOURNE STEEL PANTHER THUNDER a ema FOREIGNER BUSH $6, Jn 2a22 MONSTER MAGNET MEGAWATT ALICE COOPER BLACK LABEL SOCIETY ACCEPT STORACE DIRTY HONEY. HINWIL  MORE BANDS WILL BE ANNOUNCED SOON AUTOBAHNKREISEL  HAUPTPARTNER (MEDIENPARTNER Heineken’ ek  CCO-PARTNER  www.rockthering.ch wwwsticketcorner.ch  arieettieet  ce rey AIRBOURNE STEEL PANTHER THUNDER  DUNNER STAG cal, Leas  THE HIVES AIRBOURNE STEEL PANTHER THUNDER BUSH Her ee MONSTER MAGNET MEGAWATT  ALICE COOPER  BLACK LABEL SOCIETY ACCEPT STORACE  DIRTY HONEY HINWIL  PEE Rt WLS EL DO EN RCRA fe S 0 ATA AB APA Aik CiEIS El  prdsontient  MIGROS  DONNERSTAGI  HOM UNIR2 0228  HESHIVIES:  AIRBOURNE  STEER ATINHER tere  THUNDER ia UR ROREIGHER  . _ BEUSH  Ta ON ee AVIONSTERS SiGe  1G; UL ae fd aaa y oe seh See HT ANIC. COUPER “  My: age FABEISSOCIENVEN  le S22R LercnPornen®  Be GEE ame ee) Be Sa\"  crmcuedhithering.ch ‘eeswltickatzomench  ', 'raw_text': 'DONNERSTAG 16. JUNI 2022  THE HIV ES AIRBOURNE  STEEL PANTHER _—_ THUNDER 17. JUNI 2022  ia! —  Sa 2 ae  ‘TRANSPORTPARTNER  MIGROS  prasentiert  DONNERSTAG 16. JUNI 2022 THE HIVES AIRBOURNE STEEL PANTHER THUNDER a ema FOREIGNER BUSH $6, Jn 2a22 MONSTER MAGNET MEGAWATT ALICE COOPER BLACK LABEL SOCIETY ACCEPT STORACE DIRTY HONEY. HINWIL  MORE BANDS WILL BE ANNOUNCED SOON AUTOBAHNKREISEL  HAUPTPARTNER (MEDIENPARTNER Heineken’ ek  CCO-PARTNER  www.rockthering.ch wwwsticketcorner.ch  arieettieet  ce rey AIRBOURNE STEEL PANTHER THUNDER  DUNNER STAG cal, Leas  THE HIVES AIRBOURNE STEEL PANTHER THUNDER BUSH Her ee MONSTER MAGNET MEGAWATT  ALICE COOPER  BLACK LABEL SOCIETY ACCEPT STORACE  DIRTY HONEY HINWIL  PEE Rt WLS EL DO EN RCRA fe S 0 ATA AB APA Aik CiEIS El  prdsontient  MIGROS  DONNERSTAGI  HOM UNIR2 0228  HESHIVIES:  AIRBOURNE  STEER ATINHER tere  THUNDER ia UR ROREIGHER  . _ BEUSH  Ta ON ee AVIONSTERS SiGe  1G; UL ae fd aaa y oe seh See HT ANIC. COUPER “  My: age FABEISSOCIENVEN  le S22R LercnPornen®  Be GEE ame ee) Be Sa\"  crmcuedhithering.ch ‘eeswltickatzomench  ', 'key_words': 'donnerstag 16. juni airbourne panther thunder 17. juni transportpartner migros prasentiert donnerstag 16. juni airbourne panther thunder ema foreigner bush jn monster megawatt alice cooper black label society accept storace dirty hinwil more soon autobahnkreisel hauptpartner medienpartner heineken cco-partner www.rockthering.ch wwwsticketcorner.ch arieettieet ce rey panther thunder dunner stag cal leas the hives airbourne panther thunder bush ee monster megawatt alice cooper black label society accept storace dirty honey hinwil pee rcra fe ata apa donnerstagi hom unir2 airbourne steer atinher tere ia ur roreigher beush ta on ee avionsters sige seh see anic couper my fabeissocienven s22r ®', 'likely_date': '16.6.2022', 'websites': ['www.ticketcorner.ch', 'www.rockthering.ch'], 'features': ['Donnerstag', 'Panther Thunder', 'Migros', 'Prasentiert Donnerstag', 'Ema Foreigner', 'Bush Jn', 'Www', 'Ch Wwwsticketcorner', 'Bush', 'Hom', 'Airbourne Steer']}\n",
      "_______________\n",
      "{'URL': \"Your Logo  SIC  en  XYZ CLUB  PARK XYZ, MILKY WAY STREET , GALAXY XY  24.10.21. i!  LADIES FREE ENTRY  LOUNGE RESERVATION WWW.XYTHINKZCLUB.COM  @xvzearty  Your Logo  SIC  ——  XYZ CLUB  PARK XYZ, MILKY WAY STREET , GALAXY XY  24.10.21. i!  LADIES FREE ENTRY  LOUNGE RESERVATION WWW.XYTHINKZCLUB.COM  2) xvzparty  SIC  ?——  XYZ CLUB  ire oe Th hes  24.10.21. °55;'  Quran IQ(ACHUE:  BARK IV2, MILGY WAT STREET , CALAN? 2°  22, Oa), nal  LADIES FREE ENTRY LOUNGE RESERVATION LRAT RY THINKZCLUS.COM  of G) svapanty  \", 'raw_text': \"Your Logo  SIC  en  XYZ CLUB  PARK XYZ, MILKY WAY STREET , GALAXY XY  24.10.21. i!  LADIES FREE ENTRY  LOUNGE RESERVATION WWW.XYTHINKZCLUB.COM  @xvzearty  Your Logo  SIC  ——  XYZ CLUB  PARK XYZ, MILKY WAY STREET , GALAXY XY  24.10.21. i!  LADIES FREE ENTRY  LOUNGE RESERVATION WWW.XYTHINKZCLUB.COM  2) xvzparty  SIC  ?——  XYZ CLUB  ire oe Th hes  24.10.21. °55;'  Quran IQ(ACHUE:  BARK IV2, MILGY WAT STREET , CALAN? 2°  22, Oa), nal  LADIES FREE ENTRY LOUNGE RESERVATION LRAT RY THINKZCLUS.COM  of G) svapanty  \", 'key_words': 'your logo xyz club park xyz milky way street galaxy xy i free lounge reservation www.xythinkzclub.com @xvzearty your logo xyz club park xyz milky way street galaxy xy i free lounge reservation www.xythinkzclub.com xvzparty xyz club th hes 24.10.21. ° quran iq achue iv2 wat street calan ° free entry lounge reservation ry thinkzclus.com of g svapanty', 'likely_date': '24.10.2021', 'websites': ['www.xythinkzclub.com'], 'features': ['@Xvzearty', 'Logo Xyz', 'Xvzparty Xyz']}\n",
      "_______________\n",
      "{'URL': 'SA.UC.1E. ie ee IMARKTHALLE MANNHEIM , we UICTLY: HARDCORE - HARDSTYLE - HARDTECHNO C012  sh 0242-1  MARKTHALLE MANNHEIM \\\\ 20 -OGURR  gilZoealld  SN. Hh eae NAIDOO  > SN  ABN canes newer a ee ARO BORE - HARDSTYLE-HARDVECHIO a 4 fm ~ og AE .  oe ~  Wy NX { Lo  Ane By a <7 eee ood Ni wa are 2 é i , a g a8,  ', 'raw_text': 'SA.UC.1E. ie ee IMARKTHALLE MANNHEIM , we UICTLY: HARDCORE - HARDSTYLE - HARDTECHNO C012  sh 0242-1  MARKTHALLE MANNHEIM \\\\ 20 -OGURR  gilZoealld  SN. Hh eae NAIDOO  > SN  ABN canes newer a ee ARO BORE - HARDSTYLE-HARDVECHIO a 4 fm ~ og AE .  oe ~  Wy NX { Lo  Ane By a <7 eee ood Ni wa are 2 é i , a g a8,  ', 'key_words': 'sa.uc.1e mannheim sh markthalle mannheim -ogurr gilzoealld sn hh eae naidoo sn abn canes ee aro bore hardstyle-hardvechio og a8', 'likely_date': 'No Date Found', 'websites': 'None', 'features': ['Gilzoealld Sn Hh Eae Naidoo Sn Abn Canes Ee Aro Bore']}\n",
      "_______________\n"
     ]
    }
   ],
   "source": [
    "    \n",
    "def process_url(input, all=True):\n",
    "\n",
    "    url_dict = {\"URL\": input}\n",
    "    \n",
    "    url_dict[\"raw_text\"] = input\n",
    "    #url_dict[\"raw_text\"] = image_extract(open_url(url), sol='', all=all)\n",
    "    url_dict[\"key_words\"] = get_keywords(url_dict[\"raw_text\"])\n",
    "\n",
    "\n",
    "    try:\n",
    "        url_dict[\"likely_date\"] = dates_weighted(url_dict[\"key_words\"])\n",
    "    except:\n",
    "        url_dict[\"likely_date\"] = \"No Date Found\"\n",
    "\n",
    "    url_dict[\"websites\"] = get_web_adresses(url_dict[\"key_words\"])\n",
    "\n",
    "    url_dict[\"features\"] = get_artist(url_dict[\"key_words\"].title())\n",
    "\n",
    "    return url_dict\n",
    "\n",
    "\n",
    "for entry in range(len(test_batch)):\n",
    "    print(process_url(test_batch[entry]))\n",
    "    print(\"_______________\")"
   ]
  }
 ],
 "metadata": {
  "interpreter": {
   "hash": "e99cdf971f37ee8014c6e8186dd2657c8209d5619257640f6fa4880d98427a72"
  },
  "kernelspec": {
   "display_name": "Python 3 (ipykernel)",
   "language": "python",
   "name": "python3"
  },
  "language_info": {
   "codemirror_mode": {
    "name": "ipython",
    "version": 3
   },
   "file_extension": ".py",
   "mimetype": "text/x-python",
   "name": "python",
   "nbconvert_exporter": "python",
   "pygments_lexer": "ipython3",
   "version": "3.8.3"
  }
 },
 "nbformat": 4,
 "nbformat_minor": 5
}
